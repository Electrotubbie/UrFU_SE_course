{
 "cells": [
  {
   "cell_type": "code",
   "execution_count": 1,
   "metadata": {},
   "outputs": [
    {
     "name": "stderr",
     "output_type": "stream",
     "text": [
      "/home/user/.local/lib/python3.10/site-packages/tqdm/auto.py:21: TqdmWarning: IProgress not found. Please update jupyter and ipywidgets. See https://ipywidgets.readthedocs.io/en/stable/user_install.html\n",
      "  from .autonotebook import tqdm as notebook_tqdm\n"
     ]
    }
   ],
   "source": [
    "from transformers import pipeline\n",
    "unmasker = pipeline('fill-mask', model='roberta-base')"
   ]
  },
  {
   "cell_type": "code",
   "execution_count": 2,
   "metadata": {},
   "outputs": [
    {
     "name": "stdout",
     "output_type": "stream",
     "text": [
      "Varians:\n",
      "Hello, i'm a fashion model.\n",
      "Hello, i'm a male model.\n",
      "Hello, i'm a professional model.\n",
      "Hello, i'm a freelance model.\n",
      "Hello, i'm a female model.\n"
     ]
    }
   ],
   "source": [
    "text = \"Hello, i'm a <mask> model.\"\n",
    "variants = unmasker(text)\n",
    "print('Varians:')\n",
    "print(*[variant['sequence'] for variant in variants], sep='\\n')"
   ]
  },
  {
   "cell_type": "code",
   "execution_count": 15,
   "metadata": {},
   "outputs": [
    {
     "data": {
      "text/plain": [
       "[{'score': 0.29843923449516296,\n",
       "  'token': 2721,\n",
       "  'token_str': ' beautiful',\n",
       "  'sequence': 'Today is a beautiful weather.'},\n",
       " {'score': 0.06035330891609192,\n",
       "  'token': 2579,\n",
       "  'token_str': ' nice',\n",
       "  'sequence': 'Today is a nice weather.'},\n",
       " {'score': 0.035473182797431946,\n",
       "  'token': 12058,\n",
       "  'token_str': ' gorgeous',\n",
       "  'sequence': 'Today is a gorgeous weather.'},\n",
       " {'score': 0.032732389867305756,\n",
       "  'token': 1969,\n",
       "  'token_str': ' perfect',\n",
       "  'sequence': 'Today is a perfect weather.'},\n",
       " {'score': 0.025119636207818985,\n",
       "  'token': 2131,\n",
       "  'token_str': ' hot',\n",
       "  'sequence': 'Today is a hot weather.'}]"
      ]
     },
     "execution_count": 15,
     "metadata": {},
     "output_type": "execute_result"
    }
   ],
   "source": [
    "unmasker('Today is a <mask> weather.')"
   ]
  }
 ],
 "metadata": {
  "kernelspec": {
   "display_name": "Python 3 (ipykernel)",
   "language": "python",
   "name": "python3"
  },
  "language_info": {
   "codemirror_mode": {
    "name": "ipython",
    "version": 3
   },
   "file_extension": ".py",
   "mimetype": "text/x-python",
   "name": "python",
   "nbconvert_exporter": "python",
   "pygments_lexer": "ipython3",
   "version": "3.10.12"
  }
 },
 "nbformat": 4,
 "nbformat_minor": 4
}
